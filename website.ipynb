{
 "cells": [
  {
   "cell_type": "code",
   "execution_count": null,
   "metadata": {},
   "outputs": [],
   "source": [
    "pip install wikipedia langchain openai elevenlabs gradio"
   ]
  },
  {
   "cell_type": "code",
   "execution_count": null,
   "metadata": {},
   "outputs": [],
   "source": [
    "import os\n",
    "import soundfile as sf\n",
    "import numpy as np\n",
    "import gradio\n",
    "import openai\n",
    "import constants\n",
    "from elevenlabs import generate, play, save\n",
    "from langchain.chat_models import ChatOpenAI\n",
    "from langchain.tools import WikipediaQueryRun\n",
    "from langchain.utilities import WikipediaAPIWrapper\n",
    "\n",
    "# Load API keys from environment variables\n",
    "os.environ[\"OPENAI_API_KEY\"] = constants.OPENAI_API_KEY\n",
    "openai.api_key = constants.OPENAI_API_KEY"
   ]
  },
  {
   "cell_type": "code",
   "execution_count": null,
   "metadata": {},
   "outputs": [],
   "source": [
    "def get_summary_audio(theme, minutes):\n",
    "    num_words = float(minutes) * 150  # Approx 150 words/min spoken\n",
    "\n",
    "    # Fetch text from Wikipedia\n",
    "    wikipedia = WikipediaQueryRun(api_wrapper=WikipediaAPIWrapper())\n",
    "    text = wikipedia.run(theme)\n",
    "\n",
    "    # Send a prompt to summarize the text using ChatGPT\n",
    "    prompt = f\"Summarize the following text in {num_words} words. Text: {text}\"\n",
    "    chat_model = ChatOpenAI()\n",
    "    summary = chat_model.predict(prompt)\n",
    "\n",
    "    # Generate speech from the summary using elevenlabs text-to-speech (TTS)\n",
    "    audio = generate(text=summary, voice='Arnold', model=\"eleven_monolingual_v1\", api_key=constants.ELEVEN_API_KEY)\n",
    "\n",
    "    # Save the audio as a WAV file\n",
    "    audio_file_path = f\"audio/{theme}_in_{num_words}_words.wav\"\n",
    "    save(audio, audio_file_path)\n",
    "\n",
    "    # Read the WAV file and format audio data as specified\n",
    "    audio_data, sample_rate = sf.read(audio_file_path)\n",
    "    audio_data = (audio_data * 32767).astype(np.int16)\n",
    "    \n",
    "    return int(sample_rate), audio_data\n",
    "\n",
    "def main(theme, minutes):\n",
    "    return get_summary_audio(theme, minutes)\n",
    "\n",
    "if __name__ == \"__main__\":\n",
    "    demo = gradio.Interface(fn=main, inputs=[\"text\", \"text\"], outputs=\"audio\", title=\"Text Tales\")\n",
    "    demo.launch(share=True)"
   ]
  }
 ],
 "metadata": {
  "kernelspec": {
   "display_name": "Python 3",
   "language": "python",
   "name": "python3"
  },
  "language_info": {
   "codemirror_mode": {
    "name": "ipython",
    "version": 3
   },
   "file_extension": ".py",
   "mimetype": "text/x-python",
   "name": "python",
   "nbconvert_exporter": "python",
   "pygments_lexer": "ipython3",
   "version": "3.9.6"
  },
  "orig_nbformat": 4
 },
 "nbformat": 4,
 "nbformat_minor": 2
}
